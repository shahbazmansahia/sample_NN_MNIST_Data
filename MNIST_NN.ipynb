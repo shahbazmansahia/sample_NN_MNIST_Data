{
  "cells": [
    {
      "cell_type": "markdown",
      "id": "a32301db",
      "metadata": {
        "id": "a32301db"
      },
      "source": [
        "# Neural Networks"
      ]
    },
    {
      "cell_type": "code",
      "source": [],
      "metadata": {
        "id": "LilJ5WqQZLuU"
      },
      "id": "LilJ5WqQZLuU",
      "execution_count": null,
      "outputs": []
    },
    {
      "cell_type": "markdown",
      "id": "9b0d7108",
      "metadata": {
        "id": "9b0d7108"
      },
      "source": [
        "## 1. Load the mnist dataset"
      ]
    },
    {
      "cell_type": "code",
      "execution_count": 1,
      "id": "188b0496",
      "metadata": {
        "id": "188b0496"
      },
      "outputs": [],
      "source": [
        "import pandas as pd;\n",
        "import numpy as np;\n",
        "import seaborn as sns;\n",
        "import matplotlib.pyplot as plt;\n",
        "from sklearn.preprocessing import StandardScaler;\n",
        "from sklearn.model_selection import train_test_split;\n",
        "from sklearn.metrics import classification_report, confusion_matrix;\n",
        "#from sklearn.datasets import\n",
        "from keras.models import Sequential;\n",
        "from keras.layers import Dense, Dropout, Flatten, Activation;\n",
        "import tensorflow as tf;\n",
        "%matplotlib inline"
      ]
    },
    {
      "cell_type": "code",
      "execution_count": 2,
      "id": "4dd0ad51",
      "metadata": {
        "id": "4dd0ad51"
      },
      "outputs": [],
      "source": [
        "df_train = pd.read_csv('train.csv');\n",
        "df_test = pd.read_csv('test.csv');"
      ]
    },
    {
      "cell_type": "code",
      "execution_count": 3,
      "id": "766bac70",
      "metadata": {
        "colab": {
          "base_uri": "https://localhost:8080/",
          "height": 255
        },
        "id": "766bac70",
        "outputId": "482a26fe-e5c0-4f73-f40a-13473b0bee8e"
      },
      "outputs": [
        {
          "output_type": "execute_result",
          "data": {
            "text/plain": [
              "   label  pixel0  pixel1  pixel2  pixel3  pixel4  pixel5  pixel6  pixel7  \\\n",
              "0      1       0       0       0       0       0       0       0       0   \n",
              "1      0       0       0       0       0       0       0       0       0   \n",
              "2      1       0       0       0       0       0       0       0       0   \n",
              "3      4       0       0       0       0       0       0       0       0   \n",
              "4      0       0       0       0       0       0       0       0       0   \n",
              "\n",
              "   pixel8  ...  pixel774  pixel775  pixel776  pixel777  pixel778  pixel779  \\\n",
              "0       0  ...       0.0       0.0       0.0       0.0       0.0       0.0   \n",
              "1       0  ...       0.0       0.0       0.0       0.0       0.0       0.0   \n",
              "2       0  ...       0.0       0.0       0.0       0.0       0.0       0.0   \n",
              "3       0  ...       0.0       0.0       0.0       0.0       0.0       0.0   \n",
              "4       0  ...       0.0       0.0       0.0       0.0       0.0       0.0   \n",
              "\n",
              "   pixel780  pixel781  pixel782  pixel783  \n",
              "0       0.0       0.0       0.0       0.0  \n",
              "1       0.0       0.0       0.0       0.0  \n",
              "2       0.0       0.0       0.0       0.0  \n",
              "3       0.0       0.0       0.0       0.0  \n",
              "4       0.0       0.0       0.0       0.0  \n",
              "\n",
              "[5 rows x 785 columns]"
            ],
            "text/html": [
              "\n",
              "  <div id=\"df-efd3c77b-65f6-4eb2-a682-eaccfc4ab162\" class=\"colab-df-container\">\n",
              "    <div>\n",
              "<style scoped>\n",
              "    .dataframe tbody tr th:only-of-type {\n",
              "        vertical-align: middle;\n",
              "    }\n",
              "\n",
              "    .dataframe tbody tr th {\n",
              "        vertical-align: top;\n",
              "    }\n",
              "\n",
              "    .dataframe thead th {\n",
              "        text-align: right;\n",
              "    }\n",
              "</style>\n",
              "<table border=\"1\" class=\"dataframe\">\n",
              "  <thead>\n",
              "    <tr style=\"text-align: right;\">\n",
              "      <th></th>\n",
              "      <th>label</th>\n",
              "      <th>pixel0</th>\n",
              "      <th>pixel1</th>\n",
              "      <th>pixel2</th>\n",
              "      <th>pixel3</th>\n",
              "      <th>pixel4</th>\n",
              "      <th>pixel5</th>\n",
              "      <th>pixel6</th>\n",
              "      <th>pixel7</th>\n",
              "      <th>pixel8</th>\n",
              "      <th>...</th>\n",
              "      <th>pixel774</th>\n",
              "      <th>pixel775</th>\n",
              "      <th>pixel776</th>\n",
              "      <th>pixel777</th>\n",
              "      <th>pixel778</th>\n",
              "      <th>pixel779</th>\n",
              "      <th>pixel780</th>\n",
              "      <th>pixel781</th>\n",
              "      <th>pixel782</th>\n",
              "      <th>pixel783</th>\n",
              "    </tr>\n",
              "  </thead>\n",
              "  <tbody>\n",
              "    <tr>\n",
              "      <th>0</th>\n",
              "      <td>1</td>\n",
              "      <td>0</td>\n",
              "      <td>0</td>\n",
              "      <td>0</td>\n",
              "      <td>0</td>\n",
              "      <td>0</td>\n",
              "      <td>0</td>\n",
              "      <td>0</td>\n",
              "      <td>0</td>\n",
              "      <td>0</td>\n",
              "      <td>...</td>\n",
              "      <td>0.0</td>\n",
              "      <td>0.0</td>\n",
              "      <td>0.0</td>\n",
              "      <td>0.0</td>\n",
              "      <td>0.0</td>\n",
              "      <td>0.0</td>\n",
              "      <td>0.0</td>\n",
              "      <td>0.0</td>\n",
              "      <td>0.0</td>\n",
              "      <td>0.0</td>\n",
              "    </tr>\n",
              "    <tr>\n",
              "      <th>1</th>\n",
              "      <td>0</td>\n",
              "      <td>0</td>\n",
              "      <td>0</td>\n",
              "      <td>0</td>\n",
              "      <td>0</td>\n",
              "      <td>0</td>\n",
              "      <td>0</td>\n",
              "      <td>0</td>\n",
              "      <td>0</td>\n",
              "      <td>0</td>\n",
              "      <td>...</td>\n",
              "      <td>0.0</td>\n",
              "      <td>0.0</td>\n",
              "      <td>0.0</td>\n",
              "      <td>0.0</td>\n",
              "      <td>0.0</td>\n",
              "      <td>0.0</td>\n",
              "      <td>0.0</td>\n",
              "      <td>0.0</td>\n",
              "      <td>0.0</td>\n",
              "      <td>0.0</td>\n",
              "    </tr>\n",
              "    <tr>\n",
              "      <th>2</th>\n",
              "      <td>1</td>\n",
              "      <td>0</td>\n",
              "      <td>0</td>\n",
              "      <td>0</td>\n",
              "      <td>0</td>\n",
              "      <td>0</td>\n",
              "      <td>0</td>\n",
              "      <td>0</td>\n",
              "      <td>0</td>\n",
              "      <td>0</td>\n",
              "      <td>...</td>\n",
              "      <td>0.0</td>\n",
              "      <td>0.0</td>\n",
              "      <td>0.0</td>\n",
              "      <td>0.0</td>\n",
              "      <td>0.0</td>\n",
              "      <td>0.0</td>\n",
              "      <td>0.0</td>\n",
              "      <td>0.0</td>\n",
              "      <td>0.0</td>\n",
              "      <td>0.0</td>\n",
              "    </tr>\n",
              "    <tr>\n",
              "      <th>3</th>\n",
              "      <td>4</td>\n",
              "      <td>0</td>\n",
              "      <td>0</td>\n",
              "      <td>0</td>\n",
              "      <td>0</td>\n",
              "      <td>0</td>\n",
              "      <td>0</td>\n",
              "      <td>0</td>\n",
              "      <td>0</td>\n",
              "      <td>0</td>\n",
              "      <td>...</td>\n",
              "      <td>0.0</td>\n",
              "      <td>0.0</td>\n",
              "      <td>0.0</td>\n",
              "      <td>0.0</td>\n",
              "      <td>0.0</td>\n",
              "      <td>0.0</td>\n",
              "      <td>0.0</td>\n",
              "      <td>0.0</td>\n",
              "      <td>0.0</td>\n",
              "      <td>0.0</td>\n",
              "    </tr>\n",
              "    <tr>\n",
              "      <th>4</th>\n",
              "      <td>0</td>\n",
              "      <td>0</td>\n",
              "      <td>0</td>\n",
              "      <td>0</td>\n",
              "      <td>0</td>\n",
              "      <td>0</td>\n",
              "      <td>0</td>\n",
              "      <td>0</td>\n",
              "      <td>0</td>\n",
              "      <td>0</td>\n",
              "      <td>...</td>\n",
              "      <td>0.0</td>\n",
              "      <td>0.0</td>\n",
              "      <td>0.0</td>\n",
              "      <td>0.0</td>\n",
              "      <td>0.0</td>\n",
              "      <td>0.0</td>\n",
              "      <td>0.0</td>\n",
              "      <td>0.0</td>\n",
              "      <td>0.0</td>\n",
              "      <td>0.0</td>\n",
              "    </tr>\n",
              "  </tbody>\n",
              "</table>\n",
              "<p>5 rows × 785 columns</p>\n",
              "</div>\n",
              "    <div class=\"colab-df-buttons\">\n",
              "\n",
              "  <div class=\"colab-df-container\">\n",
              "    <button class=\"colab-df-convert\" onclick=\"convertToInteractive('df-efd3c77b-65f6-4eb2-a682-eaccfc4ab162')\"\n",
              "            title=\"Convert this dataframe to an interactive table.\"\n",
              "            style=\"display:none;\">\n",
              "\n",
              "  <svg xmlns=\"http://www.w3.org/2000/svg\" height=\"24px\" viewBox=\"0 -960 960 960\">\n",
              "    <path d=\"M120-120v-720h720v720H120Zm60-500h600v-160H180v160Zm220 220h160v-160H400v160Zm0 220h160v-160H400v160ZM180-400h160v-160H180v160Zm440 0h160v-160H620v160ZM180-180h160v-160H180v160Zm440 0h160v-160H620v160Z\"/>\n",
              "  </svg>\n",
              "    </button>\n",
              "\n",
              "  <style>\n",
              "    .colab-df-container {\n",
              "      display:flex;\n",
              "      gap: 12px;\n",
              "    }\n",
              "\n",
              "    .colab-df-convert {\n",
              "      background-color: #E8F0FE;\n",
              "      border: none;\n",
              "      border-radius: 50%;\n",
              "      cursor: pointer;\n",
              "      display: none;\n",
              "      fill: #1967D2;\n",
              "      height: 32px;\n",
              "      padding: 0 0 0 0;\n",
              "      width: 32px;\n",
              "    }\n",
              "\n",
              "    .colab-df-convert:hover {\n",
              "      background-color: #E2EBFA;\n",
              "      box-shadow: 0px 1px 2px rgba(60, 64, 67, 0.3), 0px 1px 3px 1px rgba(60, 64, 67, 0.15);\n",
              "      fill: #174EA6;\n",
              "    }\n",
              "\n",
              "    .colab-df-buttons div {\n",
              "      margin-bottom: 4px;\n",
              "    }\n",
              "\n",
              "    [theme=dark] .colab-df-convert {\n",
              "      background-color: #3B4455;\n",
              "      fill: #D2E3FC;\n",
              "    }\n",
              "\n",
              "    [theme=dark] .colab-df-convert:hover {\n",
              "      background-color: #434B5C;\n",
              "      box-shadow: 0px 1px 3px 1px rgba(0, 0, 0, 0.15);\n",
              "      filter: drop-shadow(0px 1px 2px rgba(0, 0, 0, 0.3));\n",
              "      fill: #FFFFFF;\n",
              "    }\n",
              "  </style>\n",
              "\n",
              "    <script>\n",
              "      const buttonEl =\n",
              "        document.querySelector('#df-efd3c77b-65f6-4eb2-a682-eaccfc4ab162 button.colab-df-convert');\n",
              "      buttonEl.style.display =\n",
              "        google.colab.kernel.accessAllowed ? 'block' : 'none';\n",
              "\n",
              "      async function convertToInteractive(key) {\n",
              "        const element = document.querySelector('#df-efd3c77b-65f6-4eb2-a682-eaccfc4ab162');\n",
              "        const dataTable =\n",
              "          await google.colab.kernel.invokeFunction('convertToInteractive',\n",
              "                                                    [key], {});\n",
              "        if (!dataTable) return;\n",
              "\n",
              "        const docLinkHtml = 'Like what you see? Visit the ' +\n",
              "          '<a target=\"_blank\" href=https://colab.research.google.com/notebooks/data_table.ipynb>data table notebook</a>'\n",
              "          + ' to learn more about interactive tables.';\n",
              "        element.innerHTML = '';\n",
              "        dataTable['output_type'] = 'display_data';\n",
              "        await google.colab.output.renderOutput(dataTable, element);\n",
              "        const docLink = document.createElement('div');\n",
              "        docLink.innerHTML = docLinkHtml;\n",
              "        element.appendChild(docLink);\n",
              "      }\n",
              "    </script>\n",
              "  </div>\n",
              "\n",
              "\n",
              "<div id=\"df-ee57d492-f601-461a-92ab-094710ad0d19\">\n",
              "  <button class=\"colab-df-quickchart\" onclick=\"quickchart('df-ee57d492-f601-461a-92ab-094710ad0d19')\"\n",
              "            title=\"Suggest charts.\"\n",
              "            style=\"display:none;\">\n",
              "\n",
              "<svg xmlns=\"http://www.w3.org/2000/svg\" height=\"24px\"viewBox=\"0 0 24 24\"\n",
              "     width=\"24px\">\n",
              "    <g>\n",
              "        <path d=\"M19 3H5c-1.1 0-2 .9-2 2v14c0 1.1.9 2 2 2h14c1.1 0 2-.9 2-2V5c0-1.1-.9-2-2-2zM9 17H7v-7h2v7zm4 0h-2V7h2v10zm4 0h-2v-4h2v4z\"/>\n",
              "    </g>\n",
              "</svg>\n",
              "  </button>\n",
              "\n",
              "<style>\n",
              "  .colab-df-quickchart {\n",
              "      --bg-color: #E8F0FE;\n",
              "      --fill-color: #1967D2;\n",
              "      --hover-bg-color: #E2EBFA;\n",
              "      --hover-fill-color: #174EA6;\n",
              "      --disabled-fill-color: #AAA;\n",
              "      --disabled-bg-color: #DDD;\n",
              "  }\n",
              "\n",
              "  [theme=dark] .colab-df-quickchart {\n",
              "      --bg-color: #3B4455;\n",
              "      --fill-color: #D2E3FC;\n",
              "      --hover-bg-color: #434B5C;\n",
              "      --hover-fill-color: #FFFFFF;\n",
              "      --disabled-bg-color: #3B4455;\n",
              "      --disabled-fill-color: #666;\n",
              "  }\n",
              "\n",
              "  .colab-df-quickchart {\n",
              "    background-color: var(--bg-color);\n",
              "    border: none;\n",
              "    border-radius: 50%;\n",
              "    cursor: pointer;\n",
              "    display: none;\n",
              "    fill: var(--fill-color);\n",
              "    height: 32px;\n",
              "    padding: 0;\n",
              "    width: 32px;\n",
              "  }\n",
              "\n",
              "  .colab-df-quickchart:hover {\n",
              "    background-color: var(--hover-bg-color);\n",
              "    box-shadow: 0 1px 2px rgba(60, 64, 67, 0.3), 0 1px 3px 1px rgba(60, 64, 67, 0.15);\n",
              "    fill: var(--button-hover-fill-color);\n",
              "  }\n",
              "\n",
              "  .colab-df-quickchart-complete:disabled,\n",
              "  .colab-df-quickchart-complete:disabled:hover {\n",
              "    background-color: var(--disabled-bg-color);\n",
              "    fill: var(--disabled-fill-color);\n",
              "    box-shadow: none;\n",
              "  }\n",
              "\n",
              "  .colab-df-spinner {\n",
              "    border: 2px solid var(--fill-color);\n",
              "    border-color: transparent;\n",
              "    border-bottom-color: var(--fill-color);\n",
              "    animation:\n",
              "      spin 1s steps(1) infinite;\n",
              "  }\n",
              "\n",
              "  @keyframes spin {\n",
              "    0% {\n",
              "      border-color: transparent;\n",
              "      border-bottom-color: var(--fill-color);\n",
              "      border-left-color: var(--fill-color);\n",
              "    }\n",
              "    20% {\n",
              "      border-color: transparent;\n",
              "      border-left-color: var(--fill-color);\n",
              "      border-top-color: var(--fill-color);\n",
              "    }\n",
              "    30% {\n",
              "      border-color: transparent;\n",
              "      border-left-color: var(--fill-color);\n",
              "      border-top-color: var(--fill-color);\n",
              "      border-right-color: var(--fill-color);\n",
              "    }\n",
              "    40% {\n",
              "      border-color: transparent;\n",
              "      border-right-color: var(--fill-color);\n",
              "      border-top-color: var(--fill-color);\n",
              "    }\n",
              "    60% {\n",
              "      border-color: transparent;\n",
              "      border-right-color: var(--fill-color);\n",
              "    }\n",
              "    80% {\n",
              "      border-color: transparent;\n",
              "      border-right-color: var(--fill-color);\n",
              "      border-bottom-color: var(--fill-color);\n",
              "    }\n",
              "    90% {\n",
              "      border-color: transparent;\n",
              "      border-bottom-color: var(--fill-color);\n",
              "    }\n",
              "  }\n",
              "</style>\n",
              "\n",
              "  <script>\n",
              "    async function quickchart(key) {\n",
              "      const quickchartButtonEl =\n",
              "        document.querySelector('#' + key + ' button');\n",
              "      quickchartButtonEl.disabled = true;  // To prevent multiple clicks.\n",
              "      quickchartButtonEl.classList.add('colab-df-spinner');\n",
              "      try {\n",
              "        const charts = await google.colab.kernel.invokeFunction(\n",
              "            'suggestCharts', [key], {});\n",
              "      } catch (error) {\n",
              "        console.error('Error during call to suggestCharts:', error);\n",
              "      }\n",
              "      quickchartButtonEl.classList.remove('colab-df-spinner');\n",
              "      quickchartButtonEl.classList.add('colab-df-quickchart-complete');\n",
              "    }\n",
              "    (() => {\n",
              "      let quickchartButtonEl =\n",
              "        document.querySelector('#df-ee57d492-f601-461a-92ab-094710ad0d19 button');\n",
              "      quickchartButtonEl.style.display =\n",
              "        google.colab.kernel.accessAllowed ? 'block' : 'none';\n",
              "    })();\n",
              "  </script>\n",
              "</div>\n",
              "    </div>\n",
              "  </div>\n"
            ]
          },
          "metadata": {},
          "execution_count": 3
        }
      ],
      "source": [
        "df_train.head()"
      ]
    },
    {
      "cell_type": "code",
      "execution_count": 4,
      "id": "45869132",
      "metadata": {
        "colab": {
          "base_uri": "https://localhost:8080/",
          "height": 255
        },
        "id": "45869132",
        "outputId": "4f5ad8bc-5750-4649-942a-f427782140ad"
      },
      "outputs": [
        {
          "output_type": "execute_result",
          "data": {
            "text/plain": [
              "   pixel0  pixel1  pixel2  pixel3  pixel4  pixel5  pixel6  pixel7  pixel8  \\\n",
              "0       0       0       0       0       0       0       0       0       0   \n",
              "1       0       0       0       0       0       0       0       0       0   \n",
              "2       0       0       0       0       0       0       0       0       0   \n",
              "3       0       0       0       0       0       0       0       0       0   \n",
              "4       0       0       0       0       0       0       0       0       0   \n",
              "\n",
              "   pixel9  ...  pixel774  pixel775  pixel776  pixel777  pixel778  pixel779  \\\n",
              "0       0  ...       0.0       0.0       0.0       0.0       0.0       0.0   \n",
              "1       0  ...       0.0       0.0       0.0       0.0       0.0       0.0   \n",
              "2       0  ...       0.0       0.0       0.0       0.0       0.0       0.0   \n",
              "3       0  ...       0.0       0.0       0.0       0.0       0.0       0.0   \n",
              "4       0  ...       0.0       0.0       0.0       0.0       0.0       0.0   \n",
              "\n",
              "   pixel780  pixel781  pixel782  pixel783  \n",
              "0       0.0       0.0       0.0       0.0  \n",
              "1       0.0       0.0       0.0       0.0  \n",
              "2       0.0       0.0       0.0       0.0  \n",
              "3       0.0       0.0       0.0       0.0  \n",
              "4       0.0       0.0       0.0       0.0  \n",
              "\n",
              "[5 rows x 784 columns]"
            ],
            "text/html": [
              "\n",
              "  <div id=\"df-5e4a97d8-d4ff-4223-9198-ca6517fb82aa\" class=\"colab-df-container\">\n",
              "    <div>\n",
              "<style scoped>\n",
              "    .dataframe tbody tr th:only-of-type {\n",
              "        vertical-align: middle;\n",
              "    }\n",
              "\n",
              "    .dataframe tbody tr th {\n",
              "        vertical-align: top;\n",
              "    }\n",
              "\n",
              "    .dataframe thead th {\n",
              "        text-align: right;\n",
              "    }\n",
              "</style>\n",
              "<table border=\"1\" class=\"dataframe\">\n",
              "  <thead>\n",
              "    <tr style=\"text-align: right;\">\n",
              "      <th></th>\n",
              "      <th>pixel0</th>\n",
              "      <th>pixel1</th>\n",
              "      <th>pixel2</th>\n",
              "      <th>pixel3</th>\n",
              "      <th>pixel4</th>\n",
              "      <th>pixel5</th>\n",
              "      <th>pixel6</th>\n",
              "      <th>pixel7</th>\n",
              "      <th>pixel8</th>\n",
              "      <th>pixel9</th>\n",
              "      <th>...</th>\n",
              "      <th>pixel774</th>\n",
              "      <th>pixel775</th>\n",
              "      <th>pixel776</th>\n",
              "      <th>pixel777</th>\n",
              "      <th>pixel778</th>\n",
              "      <th>pixel779</th>\n",
              "      <th>pixel780</th>\n",
              "      <th>pixel781</th>\n",
              "      <th>pixel782</th>\n",
              "      <th>pixel783</th>\n",
              "    </tr>\n",
              "  </thead>\n",
              "  <tbody>\n",
              "    <tr>\n",
              "      <th>0</th>\n",
              "      <td>0</td>\n",
              "      <td>0</td>\n",
              "      <td>0</td>\n",
              "      <td>0</td>\n",
              "      <td>0</td>\n",
              "      <td>0</td>\n",
              "      <td>0</td>\n",
              "      <td>0</td>\n",
              "      <td>0</td>\n",
              "      <td>0</td>\n",
              "      <td>...</td>\n",
              "      <td>0.0</td>\n",
              "      <td>0.0</td>\n",
              "      <td>0.0</td>\n",
              "      <td>0.0</td>\n",
              "      <td>0.0</td>\n",
              "      <td>0.0</td>\n",
              "      <td>0.0</td>\n",
              "      <td>0.0</td>\n",
              "      <td>0.0</td>\n",
              "      <td>0.0</td>\n",
              "    </tr>\n",
              "    <tr>\n",
              "      <th>1</th>\n",
              "      <td>0</td>\n",
              "      <td>0</td>\n",
              "      <td>0</td>\n",
              "      <td>0</td>\n",
              "      <td>0</td>\n",
              "      <td>0</td>\n",
              "      <td>0</td>\n",
              "      <td>0</td>\n",
              "      <td>0</td>\n",
              "      <td>0</td>\n",
              "      <td>...</td>\n",
              "      <td>0.0</td>\n",
              "      <td>0.0</td>\n",
              "      <td>0.0</td>\n",
              "      <td>0.0</td>\n",
              "      <td>0.0</td>\n",
              "      <td>0.0</td>\n",
              "      <td>0.0</td>\n",
              "      <td>0.0</td>\n",
              "      <td>0.0</td>\n",
              "      <td>0.0</td>\n",
              "    </tr>\n",
              "    <tr>\n",
              "      <th>2</th>\n",
              "      <td>0</td>\n",
              "      <td>0</td>\n",
              "      <td>0</td>\n",
              "      <td>0</td>\n",
              "      <td>0</td>\n",
              "      <td>0</td>\n",
              "      <td>0</td>\n",
              "      <td>0</td>\n",
              "      <td>0</td>\n",
              "      <td>0</td>\n",
              "      <td>...</td>\n",
              "      <td>0.0</td>\n",
              "      <td>0.0</td>\n",
              "      <td>0.0</td>\n",
              "      <td>0.0</td>\n",
              "      <td>0.0</td>\n",
              "      <td>0.0</td>\n",
              "      <td>0.0</td>\n",
              "      <td>0.0</td>\n",
              "      <td>0.0</td>\n",
              "      <td>0.0</td>\n",
              "    </tr>\n",
              "    <tr>\n",
              "      <th>3</th>\n",
              "      <td>0</td>\n",
              "      <td>0</td>\n",
              "      <td>0</td>\n",
              "      <td>0</td>\n",
              "      <td>0</td>\n",
              "      <td>0</td>\n",
              "      <td>0</td>\n",
              "      <td>0</td>\n",
              "      <td>0</td>\n",
              "      <td>0</td>\n",
              "      <td>...</td>\n",
              "      <td>0.0</td>\n",
              "      <td>0.0</td>\n",
              "      <td>0.0</td>\n",
              "      <td>0.0</td>\n",
              "      <td>0.0</td>\n",
              "      <td>0.0</td>\n",
              "      <td>0.0</td>\n",
              "      <td>0.0</td>\n",
              "      <td>0.0</td>\n",
              "      <td>0.0</td>\n",
              "    </tr>\n",
              "    <tr>\n",
              "      <th>4</th>\n",
              "      <td>0</td>\n",
              "      <td>0</td>\n",
              "      <td>0</td>\n",
              "      <td>0</td>\n",
              "      <td>0</td>\n",
              "      <td>0</td>\n",
              "      <td>0</td>\n",
              "      <td>0</td>\n",
              "      <td>0</td>\n",
              "      <td>0</td>\n",
              "      <td>...</td>\n",
              "      <td>0.0</td>\n",
              "      <td>0.0</td>\n",
              "      <td>0.0</td>\n",
              "      <td>0.0</td>\n",
              "      <td>0.0</td>\n",
              "      <td>0.0</td>\n",
              "      <td>0.0</td>\n",
              "      <td>0.0</td>\n",
              "      <td>0.0</td>\n",
              "      <td>0.0</td>\n",
              "    </tr>\n",
              "  </tbody>\n",
              "</table>\n",
              "<p>5 rows × 784 columns</p>\n",
              "</div>\n",
              "    <div class=\"colab-df-buttons\">\n",
              "\n",
              "  <div class=\"colab-df-container\">\n",
              "    <button class=\"colab-df-convert\" onclick=\"convertToInteractive('df-5e4a97d8-d4ff-4223-9198-ca6517fb82aa')\"\n",
              "            title=\"Convert this dataframe to an interactive table.\"\n",
              "            style=\"display:none;\">\n",
              "\n",
              "  <svg xmlns=\"http://www.w3.org/2000/svg\" height=\"24px\" viewBox=\"0 -960 960 960\">\n",
              "    <path d=\"M120-120v-720h720v720H120Zm60-500h600v-160H180v160Zm220 220h160v-160H400v160Zm0 220h160v-160H400v160ZM180-400h160v-160H180v160Zm440 0h160v-160H620v160ZM180-180h160v-160H180v160Zm440 0h160v-160H620v160Z\"/>\n",
              "  </svg>\n",
              "    </button>\n",
              "\n",
              "  <style>\n",
              "    .colab-df-container {\n",
              "      display:flex;\n",
              "      gap: 12px;\n",
              "    }\n",
              "\n",
              "    .colab-df-convert {\n",
              "      background-color: #E8F0FE;\n",
              "      border: none;\n",
              "      border-radius: 50%;\n",
              "      cursor: pointer;\n",
              "      display: none;\n",
              "      fill: #1967D2;\n",
              "      height: 32px;\n",
              "      padding: 0 0 0 0;\n",
              "      width: 32px;\n",
              "    }\n",
              "\n",
              "    .colab-df-convert:hover {\n",
              "      background-color: #E2EBFA;\n",
              "      box-shadow: 0px 1px 2px rgba(60, 64, 67, 0.3), 0px 1px 3px 1px rgba(60, 64, 67, 0.15);\n",
              "      fill: #174EA6;\n",
              "    }\n",
              "\n",
              "    .colab-df-buttons div {\n",
              "      margin-bottom: 4px;\n",
              "    }\n",
              "\n",
              "    [theme=dark] .colab-df-convert {\n",
              "      background-color: #3B4455;\n",
              "      fill: #D2E3FC;\n",
              "    }\n",
              "\n",
              "    [theme=dark] .colab-df-convert:hover {\n",
              "      background-color: #434B5C;\n",
              "      box-shadow: 0px 1px 3px 1px rgba(0, 0, 0, 0.15);\n",
              "      filter: drop-shadow(0px 1px 2px rgba(0, 0, 0, 0.3));\n",
              "      fill: #FFFFFF;\n",
              "    }\n",
              "  </style>\n",
              "\n",
              "    <script>\n",
              "      const buttonEl =\n",
              "        document.querySelector('#df-5e4a97d8-d4ff-4223-9198-ca6517fb82aa button.colab-df-convert');\n",
              "      buttonEl.style.display =\n",
              "        google.colab.kernel.accessAllowed ? 'block' : 'none';\n",
              "\n",
              "      async function convertToInteractive(key) {\n",
              "        const element = document.querySelector('#df-5e4a97d8-d4ff-4223-9198-ca6517fb82aa');\n",
              "        const dataTable =\n",
              "          await google.colab.kernel.invokeFunction('convertToInteractive',\n",
              "                                                    [key], {});\n",
              "        if (!dataTable) return;\n",
              "\n",
              "        const docLinkHtml = 'Like what you see? Visit the ' +\n",
              "          '<a target=\"_blank\" href=https://colab.research.google.com/notebooks/data_table.ipynb>data table notebook</a>'\n",
              "          + ' to learn more about interactive tables.';\n",
              "        element.innerHTML = '';\n",
              "        dataTable['output_type'] = 'display_data';\n",
              "        await google.colab.output.renderOutput(dataTable, element);\n",
              "        const docLink = document.createElement('div');\n",
              "        docLink.innerHTML = docLinkHtml;\n",
              "        element.appendChild(docLink);\n",
              "      }\n",
              "    </script>\n",
              "  </div>\n",
              "\n",
              "\n",
              "<div id=\"df-c9698a8a-d3f2-4fc7-b49f-67680a8af342\">\n",
              "  <button class=\"colab-df-quickchart\" onclick=\"quickchart('df-c9698a8a-d3f2-4fc7-b49f-67680a8af342')\"\n",
              "            title=\"Suggest charts.\"\n",
              "            style=\"display:none;\">\n",
              "\n",
              "<svg xmlns=\"http://www.w3.org/2000/svg\" height=\"24px\"viewBox=\"0 0 24 24\"\n",
              "     width=\"24px\">\n",
              "    <g>\n",
              "        <path d=\"M19 3H5c-1.1 0-2 .9-2 2v14c0 1.1.9 2 2 2h14c1.1 0 2-.9 2-2V5c0-1.1-.9-2-2-2zM9 17H7v-7h2v7zm4 0h-2V7h2v10zm4 0h-2v-4h2v4z\"/>\n",
              "    </g>\n",
              "</svg>\n",
              "  </button>\n",
              "\n",
              "<style>\n",
              "  .colab-df-quickchart {\n",
              "      --bg-color: #E8F0FE;\n",
              "      --fill-color: #1967D2;\n",
              "      --hover-bg-color: #E2EBFA;\n",
              "      --hover-fill-color: #174EA6;\n",
              "      --disabled-fill-color: #AAA;\n",
              "      --disabled-bg-color: #DDD;\n",
              "  }\n",
              "\n",
              "  [theme=dark] .colab-df-quickchart {\n",
              "      --bg-color: #3B4455;\n",
              "      --fill-color: #D2E3FC;\n",
              "      --hover-bg-color: #434B5C;\n",
              "      --hover-fill-color: #FFFFFF;\n",
              "      --disabled-bg-color: #3B4455;\n",
              "      --disabled-fill-color: #666;\n",
              "  }\n",
              "\n",
              "  .colab-df-quickchart {\n",
              "    background-color: var(--bg-color);\n",
              "    border: none;\n",
              "    border-radius: 50%;\n",
              "    cursor: pointer;\n",
              "    display: none;\n",
              "    fill: var(--fill-color);\n",
              "    height: 32px;\n",
              "    padding: 0;\n",
              "    width: 32px;\n",
              "  }\n",
              "\n",
              "  .colab-df-quickchart:hover {\n",
              "    background-color: var(--hover-bg-color);\n",
              "    box-shadow: 0 1px 2px rgba(60, 64, 67, 0.3), 0 1px 3px 1px rgba(60, 64, 67, 0.15);\n",
              "    fill: var(--button-hover-fill-color);\n",
              "  }\n",
              "\n",
              "  .colab-df-quickchart-complete:disabled,\n",
              "  .colab-df-quickchart-complete:disabled:hover {\n",
              "    background-color: var(--disabled-bg-color);\n",
              "    fill: var(--disabled-fill-color);\n",
              "    box-shadow: none;\n",
              "  }\n",
              "\n",
              "  .colab-df-spinner {\n",
              "    border: 2px solid var(--fill-color);\n",
              "    border-color: transparent;\n",
              "    border-bottom-color: var(--fill-color);\n",
              "    animation:\n",
              "      spin 1s steps(1) infinite;\n",
              "  }\n",
              "\n",
              "  @keyframes spin {\n",
              "    0% {\n",
              "      border-color: transparent;\n",
              "      border-bottom-color: var(--fill-color);\n",
              "      border-left-color: var(--fill-color);\n",
              "    }\n",
              "    20% {\n",
              "      border-color: transparent;\n",
              "      border-left-color: var(--fill-color);\n",
              "      border-top-color: var(--fill-color);\n",
              "    }\n",
              "    30% {\n",
              "      border-color: transparent;\n",
              "      border-left-color: var(--fill-color);\n",
              "      border-top-color: var(--fill-color);\n",
              "      border-right-color: var(--fill-color);\n",
              "    }\n",
              "    40% {\n",
              "      border-color: transparent;\n",
              "      border-right-color: var(--fill-color);\n",
              "      border-top-color: var(--fill-color);\n",
              "    }\n",
              "    60% {\n",
              "      border-color: transparent;\n",
              "      border-right-color: var(--fill-color);\n",
              "    }\n",
              "    80% {\n",
              "      border-color: transparent;\n",
              "      border-right-color: var(--fill-color);\n",
              "      border-bottom-color: var(--fill-color);\n",
              "    }\n",
              "    90% {\n",
              "      border-color: transparent;\n",
              "      border-bottom-color: var(--fill-color);\n",
              "    }\n",
              "  }\n",
              "</style>\n",
              "\n",
              "  <script>\n",
              "    async function quickchart(key) {\n",
              "      const quickchartButtonEl =\n",
              "        document.querySelector('#' + key + ' button');\n",
              "      quickchartButtonEl.disabled = true;  // To prevent multiple clicks.\n",
              "      quickchartButtonEl.classList.add('colab-df-spinner');\n",
              "      try {\n",
              "        const charts = await google.colab.kernel.invokeFunction(\n",
              "            'suggestCharts', [key], {});\n",
              "      } catch (error) {\n",
              "        console.error('Error during call to suggestCharts:', error);\n",
              "      }\n",
              "      quickchartButtonEl.classList.remove('colab-df-spinner');\n",
              "      quickchartButtonEl.classList.add('colab-df-quickchart-complete');\n",
              "    }\n",
              "    (() => {\n",
              "      let quickchartButtonEl =\n",
              "        document.querySelector('#df-c9698a8a-d3f2-4fc7-b49f-67680a8af342 button');\n",
              "      quickchartButtonEl.style.display =\n",
              "        google.colab.kernel.accessAllowed ? 'block' : 'none';\n",
              "    })();\n",
              "  </script>\n",
              "</div>\n",
              "    </div>\n",
              "  </div>\n"
            ]
          },
          "metadata": {},
          "execution_count": 4
        }
      ],
      "source": [
        "df_test.head()"
      ]
    },
    {
      "cell_type": "markdown",
      "id": "f9646ce5",
      "metadata": {
        "id": "f9646ce5"
      },
      "source": [
        "## 2. plot some sample images"
      ]
    },
    {
      "cell_type": "code",
      "execution_count": 5,
      "id": "763aee49",
      "metadata": {
        "colab": {
          "base_uri": "https://localhost:8080/"
        },
        "id": "763aee49",
        "outputId": "f4186248-240d-4c77-e456-c81207e301b9"
      },
      "outputs": [
        {
          "output_type": "execute_result",
          "data": {
            "text/plain": [
              "array([1, 0, 4, 7, 3, 5, 8, 9, 2, 6])"
            ]
          },
          "metadata": {},
          "execution_count": 5
        }
      ],
      "source": [
        "df_train['label'].unique()"
      ]
    },
    {
      "cell_type": "code",
      "execution_count": 6,
      "id": "215b9ad5",
      "metadata": {
        "colab": {
          "base_uri": "https://localhost:8080/",
          "height": 617
        },
        "id": "215b9ad5",
        "outputId": "b62fe9a7-4263-4dd1-d8e8-9ee3f81672ef"
      },
      "outputs": [
        {
          "output_type": "execute_result",
          "data": {
            "text/plain": [
              "<Axes: ylabel='count'>"
            ]
          },
          "metadata": {},
          "execution_count": 6
        },
        {
          "output_type": "display_data",
          "data": {
            "text/plain": [
              "<Figure size 1000x700 with 1 Axes>"
            ],
            "image/png": "[encoded data removed]"
          },
          "metadata": {}
        }
      ],
      "source": [
        "plt.figure(figsize = (10, 7));\n",
        "sns.set_style('darkgrid')\n",
        "sns.countplot(df_train['label'])"
      ]
    },
    {
      "cell_type": "code",
      "execution_count": 7,
      "id": "0bef1170",
      "metadata": {
        "colab": {
          "base_uri": "https://localhost:8080/",
          "height": 448
        },
        "id": "0bef1170",
        "outputId": "f0df96e2-95d5-4985-f249-62e9c1cc00dc"
      },
      "outputs": [
        {
          "output_type": "stream",
          "name": "stdout",
          "text": [
            "[28.]\n"
          ]
        },
        {
          "output_type": "display_data",
          "data": {
            "text/plain": [
              "<Figure size 640x480 with 1 Axes>"
            ],
            "image/png": "[encoded data removed]"
          },
          "metadata": {}
        }
      ],
      "source": [
        "print(np.sqrt(df_train.iloc[1, 1:].shape));\n",
        "df_train.iloc[1, 1:].values.reshape(28, 28);\n",
        "plt.imshow(df_train.iloc[1, 1:].values.reshape(28, 28), cmap = \"viridis\");\n"
      ]
    },
    {
      "cell_type": "code",
      "execution_count": 8,
      "id": "b11118de",
      "metadata": {
        "colab": {
          "base_uri": "https://localhost:8080/",
          "height": 575
        },
        "id": "b11118de",
        "outputId": "428b3ca5-9925-4fdc-bd51-6667fdb9b1e9"
      },
      "outputs": [
        {
          "output_type": "stream",
          "name": "stdout",
          "text": [
            "[28.]\n",
            "[28.]\n",
            "[28.]\n",
            "[28.]\n",
            "[28.]\n",
            "[28.]\n",
            "[28.]\n",
            "[28.]\n"
          ]
        },
        {
          "output_type": "display_data",
          "data": {
            "text/plain": [
              "<Figure size 640x480 with 1 Axes>"
            ],
            "image/png": "[encoded data removed]"
          },
          "metadata": {}
        }
      ],
      "source": [
        "for i in range(1, 9):\n",
        "    # because iloc[0, 1:] is the label column\n",
        "    print(np.sqrt(df_train.iloc[1, 1:].shape));\n",
        "    plt.imshow(df_train.iloc[i, 1:].values.reshape(28, 28), cmap = \"viridis\")"
      ]
    },
    {
      "cell_type": "code",
      "execution_count": 9,
      "id": "71b4dfb3",
      "metadata": {
        "id": "71b4dfb3"
      },
      "outputs": [],
      "source": [
        "def plotImages(df, n, cm = 'viridis'):\n",
        "    #plt.figure(figsize=(10, 7))\n",
        "    print (np.sqrt(df.iloc[n, 1:].shape));\n",
        "    plt.imshow(df_train.iloc[n, 1:].values.reshape(28, 28), cmap = cm);"
      ]
    },
    {
      "cell_type": "code",
      "execution_count": 10,
      "id": "a98e94a4",
      "metadata": {
        "colab": {
          "base_uri": "https://localhost:8080/",
          "height": 593
        },
        "id": "a98e94a4",
        "outputId": "2f2dcdcf-c210-4cbe-dce6-11cc1a4cc774"
      },
      "outputs": [
        {
          "output_type": "stream",
          "name": "stdout",
          "text": [
            "[28.]\n",
            "[28.]\n",
            "[28.]\n",
            "[28.]\n",
            "[28.]\n",
            "[28.]\n",
            "[28.]\n",
            "[28.]\n",
            "[28.]\n"
          ]
        },
        {
          "output_type": "display_data",
          "data": {
            "text/plain": [
              "<Figure size 640x480 with 1 Axes>"
            ],
            "image/png": "[encoded data removed]"
          },
          "metadata": {}
        }
      ],
      "source": [
        "for i in range(1, 10):\n",
        "    plotImages(df_train, i);"
      ]
    },
    {
      "cell_type": "markdown",
      "id": "e4157808",
      "metadata": {
        "id": "e4157808"
      },
      "source": [
        "## 3. pre process the target variable to make it binary"
      ]
    },
    {
      "cell_type": "markdown",
      "id": "bcd867ac",
      "metadata": {
        "id": "bcd867ac"
      },
      "source": [
        "#### <strong>NOTE:</strong> This has been done in step 10 using get_dummies()"
      ]
    },
    {
      "cell_type": "code",
      "execution_count": 11,
      "id": "fa946845",
      "metadata": {
        "colab": {
          "base_uri": "https://localhost:8080/"
        },
        "id": "fa946845",
        "outputId": "f0ba6397-a878-49cc-d160-d1f85c4125d6"
      },
      "outputs": [
        {
          "output_type": "execute_result",
          "data": {
            "text/plain": [
              "label       0\n",
              "pixel0      0\n",
              "pixel1      0\n",
              "pixel2      0\n",
              "pixel3      0\n",
              "           ..\n",
              "pixel779    1\n",
              "pixel780    1\n",
              "pixel781    1\n",
              "pixel782    1\n",
              "pixel783    1\n",
              "Length: 785, dtype: int64"
            ]
          },
          "metadata": {},
          "execution_count": 11
        }
      ],
      "source": [
        "df_train.isnull().sum()"
      ]
    },
    {
      "cell_type": "code",
      "execution_count": 12,
      "id": "38d1314b",
      "metadata": {
        "id": "38d1314b"
      },
      "outputs": [],
      "source": [
        "import cufflinks as cf;\n",
        "from plotly.offline import download_plotlyjs, init_notebook_mode, plot, iplot;"
      ]
    },
    {
      "cell_type": "code",
      "execution_count": 13,
      "id": "4657239d",
      "metadata": {
        "colab": {
          "base_uri": "https://localhost:8080/",
          "height": 17
        },
        "id": "4657239d",
        "outputId": "a6c1680e-0b14-4883-8ddd-463c4518f558"
      },
      "outputs": [
        {
          "output_type": "display_data",
          "data": {
            "text/html": [
              "        <script type=\"text/javascript\">\n",
              "        window.PlotlyConfig = {MathJaxConfig: 'local'};\n",
              "        if (window.MathJax && window.MathJax.Hub && window.MathJax.Hub.Config) {window.MathJax.Hub.Config({SVG: {font: \"STIX-Web\"}});}\n",
              "        if (typeof require !== 'undefined') {\n",
              "        require.undef(\"plotly\");\n",
              "        requirejs.config({\n",
              "            paths: {\n",
              "                'plotly': ['https://cdn.plot.ly/plotly-2.24.1.min']\n",
              "            }\n",
              "        });\n",
              "        require(['plotly'], function(Plotly) {\n",
              "            window._Plotly = Plotly;\n",
              "        });\n",
              "        }\n",
              "        </script>\n",
              "        "
            ]
          },
          "metadata": {}
        }
      ],
      "source": [
        "init_notebook_mode(connected = True);"
      ]
    },
    {
      "cell_type": "code",
      "execution_count": 14,
      "id": "db47501b",
      "metadata": {
        "colab": {
          "base_uri": "https://localhost:8080/",
          "height": 200
        },
        "id": "db47501b",
        "outputId": "64a93c4f-c276-4715-e1c1-13cc30908fed"
      },
      "outputs": [
        {
          "output_type": "error",
          "ename": "ModuleNotFoundError",
          "evalue": "ignored",
          "traceback": [
            "\u001b[0;31m---------------------------------------------------------------------------\u001b[0m",
            "\u001b[0;31mModuleNotFoundError\u001b[0m                       Traceback (most recent call last)",
            "\u001b[0;32m<ipython-input-14-8fa0cfe7eecd>\u001b[0m in \u001b[0;36m<cell line: 1>\u001b[0;34m()\u001b[0m\n\u001b[0;32m----> 1\u001b[0;31m \u001b[0;32mimport\u001b[0m \u001b[0mchart_studio\u001b[0m\u001b[0;34m.\u001b[0m\u001b[0mplotly\u001b[0m \u001b[0;32mas\u001b[0m \u001b[0mpy\u001b[0m\u001b[0;34m;\u001b[0m\u001b[0;34m\u001b[0m\u001b[0;34m\u001b[0m\u001b[0m\n\u001b[0m\u001b[1;32m      2\u001b[0m \u001b[0;32mimport\u001b[0m \u001b[0mplotly\u001b[0m\u001b[0;34m.\u001b[0m\u001b[0mgraph_objects\u001b[0m \u001b[0;32mas\u001b[0m \u001b[0mgo\u001b[0m\u001b[0;34m;\u001b[0m\u001b[0;34m\u001b[0m\u001b[0;34m\u001b[0m\u001b[0m\n",
            "\u001b[0;31mModuleNotFoundError\u001b[0m: No module named 'chart_studio'"
          ]
        }
      ],
      "source": [
        "import chart_studio.plotly as py;\n",
        "import plotly.graph_objects as go;"
      ]
    },
    {
      "cell_type": "code",
      "execution_count": 15,
      "id": "8bb55fa2",
      "metadata": {
        "colab": {
          "base_uri": "https://localhost:8080/",
          "height": 17
        },
        "id": "8bb55fa2",
        "outputId": "010a5908-1821-42fa-8ace-39c54bd59f4c"
      },
      "outputs": [
        {
          "output_type": "display_data",
          "data": {
            "text/html": [
              "        <script type=\"text/javascript\">\n",
              "        window.PlotlyConfig = {MathJaxConfig: 'local'};\n",
              "        if (window.MathJax && window.MathJax.Hub && window.MathJax.Hub.Config) {window.MathJax.Hub.Config({SVG: {font: \"STIX-Web\"}});}\n",
              "        if (typeof require !== 'undefined') {\n",
              "        require.undef(\"plotly\");\n",
              "        requirejs.config({\n",
              "            paths: {\n",
              "                'plotly': ['https://cdn.plot.ly/plotly-2.24.1.min']\n",
              "            }\n",
              "        });\n",
              "        require(['plotly'], function(Plotly) {\n",
              "            window._Plotly = Plotly;\n",
              "        });\n",
              "        }\n",
              "        </script>\n",
              "        "
            ]
          },
          "metadata": {}
        }
      ],
      "source": [
        "cf.go_offline();"
      ]
    },
    {
      "cell_type": "code",
      "execution_count": 16,
      "id": "b28d10c6",
      "metadata": {
        "colab": {
          "base_uri": "https://localhost:8080/",
          "height": 200
        },
        "id": "b28d10c6",
        "outputId": "40c30b09-8b15-4523-a044-e64eba007400"
      },
      "outputs": [
        {
          "output_type": "error",
          "ename": "NameError",
          "evalue": "ignored",
          "traceback": [
            "\u001b[0;31m---------------------------------------------------------------------------\u001b[0m",
            "\u001b[0;31mNameError\u001b[0m                                 Traceback (most recent call last)",
            "\u001b[0;32m<ipython-input-16-e6eb5efdf044>\u001b[0m in \u001b[0;36m<cell line: 2>\u001b[0;34m()\u001b[0m\n\u001b[1;32m      1\u001b[0m \u001b[0;31m# for gaining a better idea of how the data is plotted/what values vary\u001b[0m\u001b[0;34m\u001b[0m\u001b[0;34m\u001b[0m\u001b[0m\n\u001b[0;32m----> 2\u001b[0;31m \u001b[0mgo\u001b[0m\u001b[0;34m.\u001b[0m\u001b[0mFigure\u001b[0m\u001b[0;34m(\u001b[0m\u001b[0mdata\u001b[0m \u001b[0;34m=\u001b[0m \u001b[0mgo\u001b[0m\u001b[0;34m.\u001b[0m\u001b[0mHeatmap\u001b[0m\u001b[0;34m(\u001b[0m\u001b[0mz\u001b[0m \u001b[0;34m=\u001b[0m \u001b[0mdf_train\u001b[0m\u001b[0;34m.\u001b[0m\u001b[0miloc\u001b[0m\u001b[0;34m[\u001b[0m\u001b[0;36m1\u001b[0m\u001b[0;34m,\u001b[0m \u001b[0;36m1\u001b[0m\u001b[0;34m:\u001b[0m\u001b[0;34m]\u001b[0m\u001b[0;34m.\u001b[0m\u001b[0mvalues\u001b[0m\u001b[0;34m.\u001b[0m\u001b[0mreshape\u001b[0m\u001b[0;34m(\u001b[0m\u001b[0;36m28\u001b[0m\u001b[0;34m,\u001b[0m \u001b[0;36m28\u001b[0m\u001b[0;34m)\u001b[0m\u001b[0;34m)\u001b[0m\u001b[0;34m)\u001b[0m\u001b[0;34m\u001b[0m\u001b[0;34m\u001b[0m\u001b[0m\n\u001b[0m",
            "\u001b[0;31mNameError\u001b[0m: name 'go' is not defined"
          ]
        }
      ],
      "source": [
        "# for gaining a better idea of how the data is plotted/what values vary\n",
        "go.Figure(data = go.Heatmap(z = df_train.iloc[1, 1:].values.reshape(28, 28)))"
      ]
    },
    {
      "cell_type": "code",
      "execution_count": 17,
      "id": "c617e90d",
      "metadata": {
        "colab": {
          "base_uri": "https://localhost:8080/",
          "height": 617
        },
        "id": "c617e90d",
        "outputId": "8b8e0b58-1cbc-49cc-ee76-49f05d2621a5"
      },
      "outputs": [
        {
          "output_type": "execute_result",
          "data": {
            "text/plain": [
              "<Axes: >"
            ]
          },
          "metadata": {},
          "execution_count": 17
        },
        {
          "output_type": "display_data",
          "data": {
            "text/plain": [
              "<Figure size 1000x700 with 2 Axes>"
            ],
            "image/png": "[encoded data removed]"
          },
          "metadata": {}
        }
      ],
      "source": [
        "plt.figure(figsize = (10, 7))\n",
        "sns.heatmap(df_train.iloc[1, 1:].values.reshape(28, 28), annot = True, cmap = 'coolwarm')"
      ]
    },
    {
      "cell_type": "code",
      "execution_count": 18,
      "id": "4aacca27",
      "metadata": {
        "colab": {
          "base_uri": "https://localhost:8080/",
          "height": 453
        },
        "id": "4aacca27",
        "outputId": "71d2d1d1-cc76-4411-b437-fa8caa61961b"
      },
      "outputs": [
        {
          "output_type": "execute_result",
          "data": {
            "text/plain": [
              "<Axes: >"
            ]
          },
          "metadata": {},
          "execution_count": 18
        },
        {
          "output_type": "display_data",
          "data": {
            "text/plain": [
              "<Figure size 640x480 with 2 Axes>"
            ],
            "image/png": "[encoded data removed]"
          },
          "metadata": {}
        }
      ],
      "source": [
        "sns.heatmap(df_train.drop(columns='label', axis = 1).apply(lambda x: (x!=0)).iloc[4].values.reshape(28, 28), cmap = 'viridis')"
      ]
    },
    {
      "cell_type": "code",
      "execution_count": 19,
      "id": "ead3d7fd",
      "metadata": {
        "id": "ead3d7fd"
      },
      "outputs": [],
      "source": [
        "#df_train_bin = df_train.drop(columns='label', axis = 1).apply(lambda x: (x!=0))\n",
        "#df_train_bin = df_train.apply(lambda x: (x!=0));\n",
        "def preprocess (df):\n",
        "    for i in df.columns:\n",
        "        df[i] = df[i].replace(0, np.nan);\n",
        "        df[i] = df[i].fillna(df[i].mean());\n",
        "    scaler = StandardScaler();\n",
        "    scaler.fit(df);\n",
        "    ans = scaler.transform(df);\n",
        "    return df\n"
      ]
    },
    {
      "cell_type": "code",
      "execution_count": 20,
      "id": "432b4f65",
      "metadata": {
        "colab": {
          "base_uri": "https://localhost:8080/"
        },
        "id": "432b4f65",
        "outputId": "a33f0379-176f-4f2d-ac19-09b8bd1a61c9"
      },
      "outputs": [
        {
          "output_type": "stream",
          "name": "stderr",
          "text": [
            "/usr/local/lib/python3.10/dist-packages/sklearn/utils/extmath.py:1047: RuntimeWarning:\n",
            "\n",
            "invalid value encountered in divide\n",
            "\n",
            "/usr/local/lib/python3.10/dist-packages/sklearn/utils/extmath.py:1052: RuntimeWarning:\n",
            "\n",
            "invalid value encountered in divide\n",
            "\n",
            "/usr/local/lib/python3.10/dist-packages/sklearn/utils/extmath.py:1072: RuntimeWarning:\n",
            "\n",
            "invalid value encountered in divide\n",
            "\n",
            "/usr/local/lib/python3.10/dist-packages/sklearn/utils/extmath.py:1047: RuntimeWarning:\n",
            "\n",
            "invalid value encountered in divide\n",
            "\n",
            "/usr/local/lib/python3.10/dist-packages/sklearn/utils/extmath.py:1052: RuntimeWarning:\n",
            "\n",
            "invalid value encountered in divide\n",
            "\n",
            "/usr/local/lib/python3.10/dist-packages/sklearn/utils/extmath.py:1072: RuntimeWarning:\n",
            "\n",
            "invalid value encountered in divide\n",
            "\n"
          ]
        }
      ],
      "source": [
        "#df_train_bin['label'] = df_train['label'];\n",
        "df_train_bin = preprocess(df_train.drop(columns = 'label', axis = 1));\n",
        "df_test_bin = preprocess(df_test);\n",
        "df_train_bin['label'] = df_train['label'];"
      ]
    },
    {
      "cell_type": "code",
      "execution_count": null,
      "id": "59f5e46f",
      "metadata": {
        "id": "59f5e46f"
      },
      "outputs": [],
      "source": [
        "#df_test_bin = df_test.apply(lambda x: (x!=0));"
      ]
    },
    {
      "cell_type": "code",
      "execution_count": null,
      "id": "8f0a2a2b",
      "metadata": {
        "id": "8f0a2a2b"
      },
      "outputs": [],
      "source": []
    },
    {
      "cell_type": "markdown",
      "id": "a228c3dc",
      "metadata": {
        "id": "a228c3dc"
      },
      "source": [
        "## 4. construct a neural network"
      ]
    },
    {
      "cell_type": "code",
      "execution_count": 21,
      "id": "7070a137",
      "metadata": {
        "id": "7070a137"
      },
      "outputs": [],
      "source": [
        "X = df_train.drop(columns = 'label', axis = 1);\n",
        "y = df_train['label'];\n",
        "# NOTE: TARGET DATA HAS BEEN MADE BINARY HERE VVVV!!!!\n",
        "y = pd.get_dummies(y);\n",
        "X = X.replace(False, 0);\n",
        "X = X.replace(True, 1);\n",
        "#y = y.replace(False, 0);\n",
        "#y = y.replace(True, 1);"
      ]
    },
    {
      "cell_type": "code",
      "execution_count": 22,
      "id": "f8207a03",
      "metadata": {
        "id": "f8207a03"
      },
      "outputs": [],
      "source": [
        "X_train, X_test, y_train, y_test = train_test_split( X, y, test_size=0.3, random_state=101);\n",
        "X_train.reset_index();\n",
        "X_test.reset_index();\n",
        "y_test.reset_index();\n",
        "y_train.reset_index();\n",
        "\n",
        "X_train = np.reshape(X_train, [-1, 784]);\n",
        "X_train = X_train.astype('float32') / 255;\n",
        "X_test = np.reshape(X_test, [-1, 784]);\n",
        "X_test = X_test.astype('float32') / 255;\n"
      ]
    },
    {
      "cell_type": "code",
      "execution_count": 23,
      "id": "44c49c39",
      "metadata": {
        "colab": {
          "base_uri": "https://localhost:8080/"
        },
        "id": "44c49c39",
        "outputId": "d3c9e6da-6420-438f-c4ea-89a3d9f11ec5"
      },
      "outputs": [
        {
          "output_type": "execute_result",
          "data": {
            "text/plain": [
              "0  1  2  3  4  5  6  7  8  9\n",
              "0  0  1  0  0  0  0  0  0  0    97\n",
              "      0  0  1  0  0  0  0  0    94\n",
              "1  0  0  0  0  0  0  0  0  0    89\n",
              "0  0  0  0  0  0  0  1  0  0    80\n",
              "                     0  1  0    77\n",
              "                        0  1    76\n",
              "               1  0  0  0  0    76\n",
              "               0  1  0  0  0    75\n",
              "         1  0  0  0  0  0  0    70\n",
              "   1  0  0  0  0  0  0  0  0    65\n",
              "dtype: int64"
            ]
          },
          "metadata": {},
          "execution_count": 23
        }
      ],
      "source": [
        "y_train.value_counts()"
      ]
    },
    {
      "cell_type": "code",
      "execution_count": 24,
      "id": "ef0351ff",
      "metadata": {
        "id": "ef0351ff"
      },
      "outputs": [],
      "source": [
        "model = Sequential();\n",
        "#model.add (Flatten(input_shape = (28, 28)));\n",
        "#model.add(Dense(8, activation = 'relu', input_dim = 784));\n",
        "model.add(Dense(256, input_dim = 784));\n",
        "model.add(Activation('relu'));\n",
        "model.add(Dropout(0.125));\n",
        "model.add(Dense(256));\n",
        "model.add(Activation('relu'));\n",
        "model.add(Dropout(0.125));\n",
        "model.add(Dense(10));\n",
        "#model.add(Dense(1, activation = 'sigmoid'));\n",
        "model.add(Dense(10, activation = 'softmax'));\n",
        "#model.add(Dense(1, activation = 'softmax'));"
      ]
    },
    {
      "cell_type": "code",
      "execution_count": 25,
      "id": "ecc7755e",
      "metadata": {
        "scrolled": true,
        "colab": {
          "base_uri": "https://localhost:8080/"
        },
        "id": "ecc7755e",
        "outputId": "01ff5e70-ddf4-4d38-b872-d42ba1f0af8b"
      },
      "outputs": [
        {
          "output_type": "stream",
          "name": "stdout",
          "text": [
            "Epoch 1/50\n",
            "7/7 [==============================] - 5s 156ms/step - loss: nan - accuracy: 0.2140 - val_loss: nan - val_accuracy: 0.0787\n",
            "Epoch 2/50\n",
            "7/7 [==============================] - 0s 38ms/step - loss: nan - accuracy: 0.1114 - val_loss: nan - val_accuracy: 0.0787\n",
            "Epoch 3/50\n",
            "7/7 [==============================] - 0s 43ms/step - loss: nan - accuracy: 0.1114 - val_loss: nan - val_accuracy: 0.0787\n",
            "Epoch 4/50\n",
            "7/7 [==============================] - 0s 52ms/step - loss: nan - accuracy: 0.1114 - val_loss: nan - val_accuracy: 0.0787\n",
            "Epoch 5/50\n",
            "7/7 [==============================] - 0s 33ms/step - loss: nan - accuracy: 0.1114 - val_loss: nan - val_accuracy: 0.0787\n",
            "Epoch 6/50\n",
            "7/7 [==============================] - 0s 27ms/step - loss: nan - accuracy: 0.1114 - val_loss: nan - val_accuracy: 0.0787\n",
            "Epoch 7/50\n",
            "7/7 [==============================] - 0s 31ms/step - loss: nan - accuracy: 0.1114 - val_loss: nan - val_accuracy: 0.0787\n",
            "Epoch 8/50\n",
            "7/7 [==============================] - 0s 31ms/step - loss: nan - accuracy: 0.1114 - val_loss: nan - val_accuracy: 0.0787\n",
            "Epoch 9/50\n",
            "7/7 [==============================] - 0s 23ms/step - loss: nan - accuracy: 0.1114 - val_loss: nan - val_accuracy: 0.0787\n",
            "Epoch 10/50\n",
            "7/7 [==============================] - 0s 25ms/step - loss: nan - accuracy: 0.1114 - val_loss: nan - val_accuracy: 0.0787\n",
            "Epoch 11/50\n",
            "7/7 [==============================] - 0s 28ms/step - loss: nan - accuracy: 0.1114 - val_loss: nan - val_accuracy: 0.0787\n",
            "Epoch 12/50\n",
            "7/7 [==============================] - 0s 26ms/step - loss: nan - accuracy: 0.1114 - val_loss: nan - val_accuracy: 0.0787\n",
            "Epoch 13/50\n",
            "7/7 [==============================] - 0s 33ms/step - loss: nan - accuracy: 0.1114 - val_loss: nan - val_accuracy: 0.0787\n",
            "Epoch 14/50\n",
            "7/7 [==============================] - 0s 25ms/step - loss: nan - accuracy: 0.1114 - val_loss: nan - val_accuracy: 0.0787\n",
            "Epoch 15/50\n",
            "7/7 [==============================] - 0s 65ms/step - loss: nan - accuracy: 0.1114 - val_loss: nan - val_accuracy: 0.0787\n",
            "Epoch 16/50\n",
            "7/7 [==============================] - 0s 36ms/step - loss: nan - accuracy: 0.1114 - val_loss: nan - val_accuracy: 0.0787\n",
            "Epoch 17/50\n",
            "7/7 [==============================] - 0s 39ms/step - loss: nan - accuracy: 0.1114 - val_loss: nan - val_accuracy: 0.0787\n",
            "Epoch 18/50\n",
            "7/7 [==============================] - 0s 31ms/step - loss: nan - accuracy: 0.1114 - val_loss: nan - val_accuracy: 0.0787\n",
            "Epoch 19/50\n",
            "7/7 [==============================] - 0s 35ms/step - loss: nan - accuracy: 0.1114 - val_loss: nan - val_accuracy: 0.0787\n",
            "Epoch 20/50\n",
            "7/7 [==============================] - 0s 32ms/step - loss: nan - accuracy: 0.1114 - val_loss: nan - val_accuracy: 0.0787\n",
            "Epoch 21/50\n",
            "7/7 [==============================] - 0s 29ms/step - loss: nan - accuracy: 0.1114 - val_loss: nan - val_accuracy: 0.0787\n",
            "Epoch 22/50\n",
            "7/7 [==============================] - 0s 25ms/step - loss: nan - accuracy: 0.1114 - val_loss: nan - val_accuracy: 0.0787\n",
            "Epoch 23/50\n",
            "7/7 [==============================] - 0s 38ms/step - loss: nan - accuracy: 0.1114 - val_loss: nan - val_accuracy: 0.0787\n",
            "Epoch 24/50\n",
            "7/7 [==============================] - 0s 44ms/step - loss: nan - accuracy: 0.1114 - val_loss: nan - val_accuracy: 0.0787\n",
            "Epoch 25/50\n",
            "7/7 [==============================] - 0s 43ms/step - loss: nan - accuracy: 0.1114 - val_loss: nan - val_accuracy: 0.0787\n",
            "Epoch 26/50\n",
            "7/7 [==============================] - 0s 39ms/step - loss: nan - accuracy: 0.1114 - val_loss: nan - val_accuracy: 0.0787\n",
            "Epoch 27/50\n",
            "7/7 [==============================] - 0s 29ms/step - loss: nan - accuracy: 0.1114 - val_loss: nan - val_accuracy: 0.0787\n",
            "Epoch 28/50\n",
            "7/7 [==============================] - 0s 33ms/step - loss: nan - accuracy: 0.1114 - val_loss: nan - val_accuracy: 0.0787\n",
            "Epoch 29/50\n",
            "7/7 [==============================] - 0s 49ms/step - loss: nan - accuracy: 0.1114 - val_loss: nan - val_accuracy: 0.0787\n",
            "Epoch 30/50\n",
            "7/7 [==============================] - 0s 63ms/step - loss: nan - accuracy: 0.1114 - val_loss: nan - val_accuracy: 0.0787\n",
            "Epoch 31/50\n",
            "7/7 [==============================] - 0s 60ms/step - loss: nan - accuracy: 0.1114 - val_loss: nan - val_accuracy: 0.0787\n",
            "Epoch 32/50\n",
            "7/7 [==============================] - 1s 116ms/step - loss: nan - accuracy: 0.1114 - val_loss: nan - val_accuracy: 0.0787\n",
            "Epoch 33/50\n",
            "7/7 [==============================] - 0s 73ms/step - loss: nan - accuracy: 0.1114 - val_loss: nan - val_accuracy: 0.0787\n",
            "Epoch 34/50\n",
            "7/7 [==============================] - 1s 78ms/step - loss: nan - accuracy: 0.1114 - val_loss: nan - val_accuracy: 0.0787\n",
            "Epoch 35/50\n",
            "7/7 [==============================] - 0s 74ms/step - loss: nan - accuracy: 0.1114 - val_loss: nan - val_accuracy: 0.0787\n",
            "Epoch 36/50\n",
            "7/7 [==============================] - 0s 76ms/step - loss: nan - accuracy: 0.1114 - val_loss: nan - val_accuracy: 0.0787\n",
            "Epoch 37/50\n",
            "7/7 [==============================] - 0s 35ms/step - loss: nan - accuracy: 0.1114 - val_loss: nan - val_accuracy: 0.0787\n",
            "Epoch 38/50\n",
            "7/7 [==============================] - 0s 28ms/step - loss: nan - accuracy: 0.1114 - val_loss: nan - val_accuracy: 0.0787\n",
            "Epoch 39/50\n",
            "7/7 [==============================] - 0s 32ms/step - loss: nan - accuracy: 0.1114 - val_loss: nan - val_accuracy: 0.0787\n",
            "Epoch 40/50\n",
            "7/7 [==============================] - 0s 46ms/step - loss: nan - accuracy: 0.1114 - val_loss: nan - val_accuracy: 0.0787\n",
            "Epoch 41/50\n",
            "7/7 [==============================] - 0s 42ms/step - loss: nan - accuracy: 0.1114 - val_loss: nan - val_accuracy: 0.0787\n",
            "Epoch 42/50\n",
            "7/7 [==============================] - 0s 48ms/step - loss: nan - accuracy: 0.1114 - val_loss: nan - val_accuracy: 0.0787\n",
            "Epoch 43/50\n",
            "7/7 [==============================] - 0s 32ms/step - loss: nan - accuracy: 0.1114 - val_loss: nan - val_accuracy: 0.0787\n",
            "Epoch 44/50\n",
            "7/7 [==============================] - 0s 42ms/step - loss: nan - accuracy: 0.1114 - val_loss: nan - val_accuracy: 0.0787\n",
            "Epoch 45/50\n",
            "7/7 [==============================] - 0s 48ms/step - loss: nan - accuracy: 0.1114 - val_loss: nan - val_accuracy: 0.0787\n",
            "Epoch 46/50\n",
            "7/7 [==============================] - 0s 34ms/step - loss: nan - accuracy: 0.1114 - val_loss: nan - val_accuracy: 0.0787\n",
            "Epoch 47/50\n",
            "7/7 [==============================] - 0s 50ms/step - loss: nan - accuracy: 0.1114 - val_loss: nan - val_accuracy: 0.0787\n",
            "Epoch 48/50\n",
            "7/7 [==============================] - 0s 69ms/step - loss: nan - accuracy: 0.1114 - val_loss: nan - val_accuracy: 0.0787\n",
            "Epoch 49/50\n",
            "7/7 [==============================] - 0s 56ms/step - loss: nan - accuracy: 0.1114 - val_loss: nan - val_accuracy: 0.0787\n",
            "Epoch 50/50\n",
            "7/7 [==============================] - 0s 51ms/step - loss: nan - accuracy: 0.1114 - val_loss: nan - val_accuracy: 0.0787\n"
          ]
        }
      ],
      "source": [
        "model.compile(optimizer = 'adam', loss= 'categorical_crossentropy', metrics = ['accuracy']);\n",
        "NN_Train = model.fit(X_train, y_train, epochs = 50, batch_size= 128, validation_data= (X_test, y_test));"
      ]
    },
    {
      "cell_type": "code",
      "execution_count": 26,
      "id": "d23eeeff",
      "metadata": {
        "colab": {
          "base_uri": "https://localhost:8080/"
        },
        "id": "d23eeeff",
        "outputId": "bc95faeb-5641-441b-d978-c58dd07c18a4"
      },
      "outputs": [
        {
          "output_type": "stream",
          "name": "stdout",
          "text": [
            "25/25 [==============================] - 0s 5ms/step\n",
            "11/11 [==============================] - 0s 4ms/step\n",
            "36/36 [==============================] - 0s 5ms/step\n"
          ]
        }
      ],
      "source": [
        "y_train_pred = model.predict(X_train);\n",
        "y_test_pred = model.predict(X_test);\n",
        "y_train_pred = np.argmax(y_train_pred, axis = 1);\n",
        "y_test_pred = np.argmax(y_test_pred, axis = 1);\n",
        "y_test_test_pred = np.argmax(model.predict(df_test), axis = 1);\n",
        "#y_train_pred.argmin()"
      ]
    },
    {
      "cell_type": "code",
      "execution_count": 27,
      "id": "c13337ff",
      "metadata": {
        "colab": {
          "base_uri": "https://localhost:8080/"
        },
        "id": "c13337ff",
        "outputId": "f67c88a6-36bb-4dcc-a99f-99f15346571b"
      },
      "outputs": [
        {
          "output_type": "stream",
          "name": "stdout",
          "text": [
            "Model: \"sequential\"\n",
            "_________________________________________________________________\n",
            " Layer (type)                Output Shape              Param #   \n",
            "=================================================================\n",
            " dense (Dense)               (None, 256)               200960    \n",
            "                                                                 \n",
            " activation (Activation)     (None, 256)               0         \n",
            "                                                                 \n",
            " dropout (Dropout)           (None, 256)               0         \n",
            "                                                                 \n",
            " dense_1 (Dense)             (None, 256)               65792     \n",
            "                                                                 \n",
            " activation_1 (Activation)   (None, 256)               0         \n",
            "                                                                 \n",
            " dropout_1 (Dropout)         (None, 256)               0         \n",
            "                                                                 \n",
            " dense_2 (Dense)             (None, 10)                2570      \n",
            "                                                                 \n",
            " dense_3 (Dense)             (None, 10)                110       \n",
            "                                                                 \n",
            "=================================================================\n",
            "Total params: 269432 (1.03 MB)\n",
            "Trainable params: 269432 (1.03 MB)\n",
            "Non-trainable params: 0 (0.00 Byte)\n",
            "_________________________________________________________________\n"
          ]
        }
      ],
      "source": [
        "model.summary()\n",
        "\n",
        "#print (confusion_matrix(y_train_pred, y_train));\n",
        "#print (classification_report(y_train_pred, y_train));"
      ]
    },
    {
      "cell_type": "code",
      "execution_count": 28,
      "id": "5c7b9083",
      "metadata": {
        "colab": {
          "base_uri": "https://localhost:8080/"
        },
        "id": "5c7b9083",
        "outputId": "d5ae55fe-d735-4530-8494-b4e2831af7a9"
      },
      "outputs": [
        {
          "output_type": "stream",
          "name": "stdout",
          "text": [
            "3/3 [==============================] - 0s 15ms/step - loss: nan - accuracy: 0.0787\n"
          ]
        }
      ],
      "source": [
        "\n",
        "lossVal, accVal = model.evaluate(X_test, y_test, batch_size=128);"
      ]
    },
    {
      "cell_type": "markdown",
      "id": "5f224583",
      "metadata": {
        "id": "5f224583"
      },
      "source": [
        "### Alt. approach [IGNORE: JUST ROUGH WORK HERE]"
      ]
    },
    {
      "cell_type": "code",
      "execution_count": null,
      "id": "6a3a077d",
      "metadata": {
        "id": "6a3a077d"
      },
      "outputs": [],
      "source": [
        "def altProcess(img):\n",
        "    return tf.cast(img, tf.float32) / 255.;"
      ]
    },
    {
      "cell_type": "code",
      "execution_count": null,
      "id": "e817aa0c",
      "metadata": {
        "id": "e817aa0c"
      },
      "outputs": [],
      "source": [
        "#X_train_alt = X_train.map(altProcess);\n",
        "#X_test_alt = X_test.map(altProcess);\n"
      ]
    },
    {
      "cell_type": "code",
      "execution_count": null,
      "id": "c06277f9",
      "metadata": {
        "id": "c06277f9"
      },
      "outputs": [],
      "source": [
        "#model = Sequential();\n",
        "#model.add(Flatten(input_shape = (28, 28)));\n",
        "#model.add (Dense (128, activation = 'relu'));\n",
        "#model.add (Dense(10));\n",
        "#model.add(Dense(1, activation = 'sigmoid'));\n",
        "#model.add(Dense(1, activation = 'softmax'));"
      ]
    },
    {
      "cell_type": "code",
      "execution_count": null,
      "id": "53136e74",
      "metadata": {
        "id": "53136e74"
      },
      "outputs": [],
      "source": [
        "#model.compile(optimizer = 'adam', loss= 'SparseCategoricalCrossentropy', metrics = ['accuracy', 'SparseCategoricalAccuracy']);\n",
        "#NN_train = model.fit(X_train, y_train, epochs = 50);"
      ]
    },
    {
      "cell_type": "code",
      "execution_count": null,
      "id": "594bc2b1",
      "metadata": {
        "id": "594bc2b1"
      },
      "outputs": [],
      "source": []
    },
    {
      "cell_type": "code",
      "execution_count": null,
      "id": "6694d0cf",
      "metadata": {
        "id": "6694d0cf"
      },
      "outputs": [],
      "source": []
    },
    {
      "cell_type": "code",
      "execution_count": null,
      "id": "52feb400",
      "metadata": {
        "id": "52feb400"
      },
      "outputs": [],
      "source": []
    },
    {
      "cell_type": "markdown",
      "id": "cc51fea4",
      "metadata": {
        "id": "cc51fea4"
      },
      "source": [
        "## 5. plot the network (visualise/summarise)"
      ]
    },
    {
      "cell_type": "code",
      "execution_count": 29,
      "id": "b70b27e1",
      "metadata": {
        "colab": {
          "base_uri": "https://localhost:8080/"
        },
        "id": "b70b27e1",
        "outputId": "fcc23bac-0323-439b-a0f0-d5f5925321d1"
      },
      "outputs": [
        {
          "output_type": "stream",
          "name": "stdout",
          "text": [
            "Model: \"sequential\"\n",
            "_________________________________________________________________\n",
            " Layer (type)                Output Shape              Param #   \n",
            "=================================================================\n",
            " dense (Dense)               (None, 256)               200960    \n",
            "                                                                 \n",
            " activation (Activation)     (None, 256)               0         \n",
            "                                                                 \n",
            " dropout (Dropout)           (None, 256)               0         \n",
            "                                                                 \n",
            " dense_1 (Dense)             (None, 256)               65792     \n",
            "                                                                 \n",
            " activation_1 (Activation)   (None, 256)               0         \n",
            "                                                                 \n",
            " dropout_1 (Dropout)         (None, 256)               0         \n",
            "                                                                 \n",
            " dense_2 (Dense)             (None, 10)                2570      \n",
            "                                                                 \n",
            " dense_3 (Dense)             (None, 10)                110       \n",
            "                                                                 \n",
            "=================================================================\n",
            "Total params: 269432 (1.03 MB)\n",
            "Trainable params: 269432 (1.03 MB)\n",
            "Non-trainable params: 0 (0.00 Byte)\n",
            "_________________________________________________________________\n"
          ]
        }
      ],
      "source": [
        "# I tried figuring out the visualization of this but there is no real reference for any of this so I just resorted to this.\n",
        "# I hope this is what was implied by 'summarise' and not like, an entire text bloc with elaborations :/\n",
        "\n",
        "model.summary()"
      ]
    },
    {
      "cell_type": "code",
      "execution_count": 30,
      "id": "f87aa983",
      "metadata": {
        "colab": {
          "base_uri": "https://localhost:8080/",
          "height": 255
        },
        "id": "f87aa983",
        "outputId": "9abe6367-3549-4a89-d0cf-7b566817fe2f"
      },
      "outputs": [
        {
          "output_type": "error",
          "ename": "ModuleNotFoundError",
          "evalue": "ignored",
          "traceback": [
            "\u001b[0;31m---------------------------------------------------------------------------\u001b[0m",
            "\u001b[0;31mModuleNotFoundError\u001b[0m                       Traceback (most recent call last)",
            "\u001b[0;32m<ipython-input-30-d382ee33fde7>\u001b[0m in \u001b[0;36m<cell line: 6>\u001b[0;34m()\u001b[0m\n\u001b[1;32m      4\u001b[0m \u001b[0;31m# Nevermind. I cannot figure out how to do this!!\u001b[0m\u001b[0;34m\u001b[0m\u001b[0;34m\u001b[0m\u001b[0m\n\u001b[1;32m      5\u001b[0m \u001b[0;34m\u001b[0m\u001b[0m\n\u001b[0;32m----> 6\u001b[0;31m \u001b[0;32mfrom\u001b[0m \u001b[0mann_visualizer\u001b[0m\u001b[0;34m.\u001b[0m\u001b[0mvisualize\u001b[0m \u001b[0;32mimport\u001b[0m \u001b[0mann_viz\u001b[0m\u001b[0;34m;\u001b[0m\u001b[0;34m\u001b[0m\u001b[0;34m\u001b[0m\u001b[0m\n\u001b[0m\u001b[1;32m      7\u001b[0m \u001b[0;32mimport\u001b[0m \u001b[0mos\u001b[0m\u001b[0;34m;\u001b[0m\u001b[0;34m\u001b[0m\u001b[0;34m\u001b[0m\u001b[0m\n\u001b[1;32m      8\u001b[0m \u001b[0;31m#os.environ[\"PATH\"] += os.pathsep + 'C:\\\\Users\\\\Shahbaz\\\\anaconda3\\\\Lib\\\\site-packages\\\\graphviz';\u001b[0m\u001b[0;34m\u001b[0m\u001b[0;34m\u001b[0m\u001b[0m\n",
            "\u001b[0;31mModuleNotFoundError\u001b[0m: No module named 'ann_visualizer'"
          ]
        }
      ],
      "source": [
        "# NOTE: I don't think I'd have been able to figure this out without a reference!!!\n",
        "# SRC: https://exerror.com/solved-runtimeerror-failed-to-execute-dot-tpdf-o-test-make-sure-the-graphviz-executables-are-on-your-systems-path/\n",
        "\n",
        "# Nevermind. I cannot figure out how to do this!!\n",
        "\n",
        "from ann_visualizer.visualize import ann_viz;\n",
        "import os;\n",
        "#os.environ[\"PATH\"] += os.pathsep + 'C:\\\\Users\\\\Shahbaz\\\\anaconda3\\\\Lib\\\\site-packages\\\\graphviz';\n",
        "\n",
        "\n",
        "#ann_viz(model, title = \"MNIST Serialized Neural Net\", view = True, filename = 'savedNN.gv')\n",
        "#train_history = model.history\n",
        "#from keras.utils.vis_utils import plot_model;\n",
        "\n",
        "#plot_model(model, show_shapes = True, show_layer_names= True)"
      ]
    },
    {
      "cell_type": "markdown",
      "id": "aae59b84",
      "metadata": {
        "id": "aae59b84"
      },
      "source": [
        "## 6. train the network"
      ]
    },
    {
      "cell_type": "markdown",
      "id": "7470344a",
      "metadata": {
        "id": "7470344a"
      },
      "source": [
        "Done in section 10"
      ]
    },
    {
      "cell_type": "markdown",
      "id": "a1e0f913",
      "metadata": {
        "id": "a1e0f913"
      },
      "source": [
        "## 7. plot epoch vs accuracy curve"
      ]
    },
    {
      "cell_type": "code",
      "execution_count": 31,
      "id": "93900c23",
      "metadata": {
        "scrolled": true,
        "colab": {
          "base_uri": "https://localhost:8080/",
          "height": 465
        },
        "id": "93900c23",
        "outputId": "9f11b17b-a07a-4723-89df-b6d426256dbc"
      },
      "outputs": [
        {
          "output_type": "display_data",
          "data": {
            "text/plain": [
              "<Figure size 800x500 with 1 Axes>"
            ],
            "image/png": "[encoded data removed]"
          },
          "metadata": {}
        }
      ],
      "source": [
        "sns.set_style(\"darkgrid\");\n",
        "plt.figure(figsize = (8, 5))\n",
        "plt.plot(range(0, 50), NN_Train.history['loss'], color = 'b');\n",
        "plt.plot(range(0, 50), NN_Train.history['val_loss'], color = 'r', ls = '--');\n",
        "plt.xlabel('Epoch No.');\n",
        "plt.ylabel('Loss');"
      ]
    },
    {
      "cell_type": "code",
      "execution_count": 32,
      "id": "d9cd8057",
      "metadata": {
        "colab": {
          "base_uri": "https://localhost:8080/",
          "height": 468
        },
        "id": "d9cd8057",
        "outputId": "83e74400-c464-4a96-e1e7-4ce711e43d65"
      },
      "outputs": [
        {
          "output_type": "display_data",
          "data": {
            "text/plain": [
              "<Figure size 800x500 with 1 Axes>"
            ],
            "image/png": "[encoded data removed]"
          },
          "metadata": {}
        }
      ],
      "source": [
        "sns.set_style(\"darkgrid\");\n",
        "plt.figure(figsize = (8, 5))\n",
        "plt.plot(range(0, 50), NN_Train.history['accuracy'], color = 'b');\n",
        "plt.plot(range(0, 50), NN_Train.history['val_accuracy'], color = 'r', ls = '--');\n",
        "plt.xlabel('Epoch No.');\n",
        "plt.ylabel('Accuracy');"
      ]
    },
    {
      "cell_type": "markdown",
      "id": "b61ea7e8",
      "metadata": {
        "id": "b61ea7e8"
      },
      "source": [
        "## 8. print the results"
      ]
    },
    {
      "cell_type": "code",
      "execution_count": 33,
      "id": "500e0824",
      "metadata": {
        "colab": {
          "base_uri": "https://localhost:8080/"
        },
        "id": "500e0824",
        "outputId": "3dbad71a-7aaa-4a5d-a3ba-2b4d4d6f4251"
      },
      "outputs": [
        {
          "output_type": "stream",
          "name": "stdout",
          "text": [
            "3/3 [==============================] - 0s 8ms/step - loss: nan - accuracy: 0.0787\n"
          ]
        }
      ],
      "source": [
        "lossVal, accVal = model.evaluate(X_test, y_test, batch_size=128);\n"
      ]
    },
    {
      "cell_type": "code",
      "execution_count": 34,
      "id": "29be36d8",
      "metadata": {
        "colab": {
          "base_uri": "https://localhost:8080/"
        },
        "id": "29be36d8",
        "outputId": "491e7ab1-b723-47ae-abd9-1b2264bb7173"
      },
      "outputs": [
        {
          "output_type": "stream",
          "name": "stdout",
          "text": [
            "Loss Value:  nan\n",
            "Accuracy Value:  0.0787172019481659\n"
          ]
        }
      ],
      "source": [
        "print ('Loss Value: ', lossVal);\n",
        "print ('Accuracy Value: ', accVal);"
      ]
    },
    {
      "cell_type": "code",
      "execution_count": null,
      "id": "fa82e680",
      "metadata": {
        "id": "fa82e680"
      },
      "outputs": [],
      "source": []
    },
    {
      "cell_type": "code",
      "execution_count": null,
      "id": "922a67a9",
      "metadata": {
        "id": "922a67a9"
      },
      "outputs": [],
      "source": []
    }
  ],
  "metadata": {
    "kernelspec": {
      "display_name": "Python 3 (ipykernel)",
      "language": "python",
      "name": "python3"
    },
    "language_info": {
      "codemirror_mode": {
        "name": "ipython",
        "version": 3
      },
      "file_extension": ".py",
      "mimetype": "text/x-python",
      "name": "python",
      "nbconvert_exporter": "python",
      "pygments_lexer": "ipython3",
      "version": "3.10.4"
    },
    "colab": {
      "provenance": []
    }
  },
  "nbformat": 4,
  "nbformat_minor": 5
}